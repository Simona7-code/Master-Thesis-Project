{
 "cells": [
  {
   "cell_type": "markdown",
   "id": "46ab1e15-4f98-4034-9488-e33be9ec7e02",
   "metadata": {},
   "source": [
    "# XAI Decision Tree"
   ]
  },
  {
   "cell_type": "code",
   "execution_count": null,
   "id": "f3db868f-2264-43fc-9a9f-365ff2bb2d93",
   "metadata": {},
   "outputs": [],
   "source": [
    "# Caricamento dei dati di addestramento e salvataggio delle classi e delle feature in diverse variabili\n",
    "train = pd.read_csv(f\"XAI_Datasets/XAI_DoubleFeature/Train_XAI_DoubleFeature.tsv\", sep='\\t') \n",
    "y_train = np.array(train['Order_Label'])\n",
    "X_train = train.drop('Order_Label', axis=1)\n",
    "\n",
    "# Caricamento dei dati di test e salvataggio delle classi e delle feature in diverse variabili\n",
    "test= pd.read_csv(f\"XAI_Datasets/XAI_DoubleFeature/Test_XAI_DoubleFeature.tsv\", sep='\\t')  \n",
    "y_test = np.array(test['Order_Label'])\n",
    "X_test = test.drop('Order_Label', axis=1)\n",
    "\n",
    "# Impostazione del nome della classe e dei nomi delle feature\n",
    "class_name = 'Order_Label'\n",
    "feature_names = X_train.columns.tolist()\n",
    "\n",
    "# Definizione ed addestramento del modello Random Forest\n",
    "bb = RandomForestClassifier()\n",
    "bb.fit(X_train, y_train)\n",
    "\n",
    "# Funzione per effettuare predizioni delle classi \n",
    "def bb_predict(X):\n",
    "    return bb.predict(X)\n",
    "# Funzione per estrarre le probabilità predette associate alle classi di output\n",
    "def bb_predict_proba(X):\n",
    "    return bb.predict_proba(X)\n",
    "\n",
    "# Valutazione dell'accuratezza \n",
    "y_pred = bb_predict(X_test)\n",
    "print('Accuracy %.3f' % accuracy_score(y_test, y_pred))\n",
    "# Stampa del classification report del Random Forest\n",
    "print(classification_report(y_test, y_pred))\n",
    "\n",
    "# Realizzazione predizioni sul set di addestramento\n",
    "y_pred_train = bb_predict(X_train)\n",
    "\n",
    "# Definizione del DecisionTreeClassifier come algorimto di spiegabilità\n",
    "explainer = DecisionTreeClassifier(max_depth=4)\n",
    "explainer.fit(X_train, y_pred_train)\n",
    "\n",
    "# Visualizzazione di come un decision tree approssima il comportamento del modello Random Forest\n",
    "dot_data = tree.export_graphviz(explainer, out_file=None,  \n",
    "                                feature_names=feature_names, \n",
    "                                class_names=['Inverse_Order' if x == 0 else 'Correct_order' for x in explainer.classes_],\n",
    "                                filled=True, rounded=True,  \n",
    "                                special_characters=True)  \n",
    "\n",
    "graph = pydotplus.graph_from_dot_data(dot_data)  \n",
    "# Salvataggio e display della rappresentazione \n",
    "graph.write_png(\"DECISION TREE_DoubleFeature_4.png\")\n",
    "Image(graph.create_png())"
   ]
  }
 ],
 "metadata": {
  "kernelspec": {
   "display_name": "Python 3 (ipykernel)",
   "language": "python",
   "name": "python3"
  },
  "language_info": {
   "codemirror_mode": {
    "name": "ipython",
    "version": 3
   },
   "file_extension": ".py",
   "mimetype": "text/x-python",
   "name": "python",
   "nbconvert_exporter": "python",
   "pygments_lexer": "ipython3",
   "version": "3.8.17"
  }
 },
 "nbformat": 4,
 "nbformat_minor": 5
}
